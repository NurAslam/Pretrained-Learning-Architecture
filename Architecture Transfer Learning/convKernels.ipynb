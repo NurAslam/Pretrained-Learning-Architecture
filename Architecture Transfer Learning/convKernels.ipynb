{
 "cells": [
  {
   "cell_type": "markdown",
   "metadata": {},
   "source": [
    "# Wiki Kernel"
   ]
  },
  {
   "cell_type": "code",
   "execution_count": null,
   "metadata": {},
   "outputs": [],
   "source": [
    "from cv2 import filter2D\n",
    "import matplotlib.pyplot as plt\n",
    "import numpy as np\n",
    "\n",
    "from PIL import Image\n",
    "import requests\n",
    "from io import BytesIO"
   ]
  },
  {
   "cell_type": "code",
   "execution_count": null,
   "metadata": {},
   "outputs": [],
   "source": [
    "\n",
    "url = 'https://fr.mathworks.com/matlabcentral/answers/uploaded_files/20770/lenaTest3.jpg'\n",
    "img = Image.open(BytesIO(requests.get(url).content))\n",
    "\n",
    "img = np.array(img)\n",
    "plt.axis('off')\n",
    "plt.imshow(img, cmap='gray')\n",
    "plt.show()"
   ]
  },
  {
   "cell_type": "code",
   "execution_count": null,
   "metadata": {},
   "outputs": [],
   "source": [
    "identity = [0, 0, 0,\n",
    "            0, 1, 0,\n",
    "            0, 0, 0]\n",
    "\n",
    "edge1 = [1, 0, -1,\n",
    "         0, 0, 0,\n",
    "         -1, 0, 0]\n",
    "\n",
    "edge2 = [0,  1, 0,\n",
    "         1, -4, 1,\n",
    "         0,  1, 0]\n",
    "\n",
    "edge3 = [-1, -1, -1,\n",
    "         -1,  8, -1,\n",
    "         -1, -1, -1]\n",
    "\n",
    "sharpen = [ 0, -1,  0,\n",
    "           -1,  5, -1,\n",
    "            0, -1,  0]\n",
    "\n",
    "box_blur = [1, 1, 1,\n",
    "            1, 1, 1,\n",
    "            1, 1, 1]\n",
    "box_blur = [1/9 * i for i in box_blur]\n",
    "\n",
    "gaussian_blur1 = [1, 2, 1,\n",
    "                  2, 4, 2,\n",
    "                  1, 2, 1]\n",
    "gaussian_blur1 = [1/16 * i for i in gaussian_blur1]\n",
    "\n",
    "gaussian_blur2 = [1,  4,  6,  4, 1,\n",
    "                  4, 16, 24, 16, 4,\n",
    "                  6, 24, 36, 24, 6,\n",
    "                  4, 16, 24, 16, 4,\n",
    "                  1,  4,  6,  4, 1,]\n",
    "gaussian_blur2 = [1/256 * i for i in gaussian_blur2]\n",
    "\n",
    "horizontal_lines = [-1, -1, -1,\n",
    "                     2,  2,  2,\n",
    "                    -1, -1, -1]\n",
    "\n",
    "vertical_lines = [-1, 2, -1,\n",
    "                  -1, 2, -1,\n",
    "                  -1, 2, -1]\n",
    "     "
   ]
  },
  {
   "cell_type": "code",
   "execution_count": null,
   "metadata": {},
   "outputs": [],
   "source": [
    "\n",
    "kernel = np.array(box_blur)\n",
    "filtered = filter2D(img, 0, kernel)"
   ]
  },
  {
   "cell_type": "code",
   "execution_count": null,
   "metadata": {},
   "outputs": [],
   "source": [
    "f, ax = plt.subplots(1, 2, figsize=(12, 12))\n",
    "ax[0].imshow(img, cmap = 'gray')\n",
    "ax[0].set_title(\"original\")\n",
    "ax[0].axis('off')\n",
    "ax[1].imshow(filtered, cmap = 'gray')\n",
    "ax[1].set_title(\"filtered\")\n",
    "ax[1].axis('off')\n",
    "plt.show()"
   ]
  }
 ],
 "metadata": {
  "language_info": {
   "name": "python"
  }
 },
 "nbformat": 4,
 "nbformat_minor": 2
}
